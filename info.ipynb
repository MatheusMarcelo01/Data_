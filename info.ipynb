{
  "nbformat": 4,
  "nbformat_minor": 0,
  "metadata": {
    "colab": {
      "name": "Untitled0.ipynb",
      "provenance": []
    },
    "kernelspec": {
      "name": "python3",
      "display_name": "Python 3"
    },
    "language_info": {
      "name": "python"
    }
  },
  "cells": [
    {
      "cell_type": "code",
      "execution_count": null,
      "metadata": {
        "id": "mBf7SeFJVqc1",
        "colab": {
          "base_uri": "https://localhost:8080/",
          "height": 250
        },
        "outputId": "9960ab74-eab9-4075-abda-24380ca347fa"
      },
      "outputs": [
        {
          "output_type": "execute_result",
          "data": {
            "text/plain": [
              "                 airline  avail_seat_km_per_week  incidents_85_99  \\\n",
              "0             Aer Lingus               320906734                2   \n",
              "1              Aeroflot*              1197672318               76   \n",
              "2  Aerolineas Argentinas               385803648                6   \n",
              "3            Aeromexico*               596871813                3   \n",
              "4             Air Canada              1865253802                2   \n",
              "\n",
              "   fatal_accidents_85_99  fatalities_85_99  incidents_00_14  \\\n",
              "0                      0                 0                0   \n",
              "1                     14               128                6   \n",
              "2                      0                 0                1   \n",
              "3                      1                64                5   \n",
              "4                      0                 0                2   \n",
              "\n",
              "   fatal_accidents_00_14  fatalities_00_14  \n",
              "0                      0                 0  \n",
              "1                      1                88  \n",
              "2                      0                 0  \n",
              "3                      0                 0  \n",
              "4                      0                 0  "
            ],
            "text/html": [
              "\n",
              "  <div id=\"df-c2901726-64f9-4e85-8999-c47c8935ac61\">\n",
              "    <div class=\"colab-df-container\">\n",
              "      <div>\n",
              "<style scoped>\n",
              "    .dataframe tbody tr th:only-of-type {\n",
              "        vertical-align: middle;\n",
              "    }\n",
              "\n",
              "    .dataframe tbody tr th {\n",
              "        vertical-align: top;\n",
              "    }\n",
              "\n",
              "    .dataframe thead th {\n",
              "        text-align: right;\n",
              "    }\n",
              "</style>\n",
              "<table border=\"1\" class=\"dataframe\">\n",
              "  <thead>\n",
              "    <tr style=\"text-align: right;\">\n",
              "      <th></th>\n",
              "      <th>airline</th>\n",
              "      <th>avail_seat_km_per_week</th>\n",
              "      <th>incidents_85_99</th>\n",
              "      <th>fatal_accidents_85_99</th>\n",
              "      <th>fatalities_85_99</th>\n",
              "      <th>incidents_00_14</th>\n",
              "      <th>fatal_accidents_00_14</th>\n",
              "      <th>fatalities_00_14</th>\n",
              "    </tr>\n",
              "  </thead>\n",
              "  <tbody>\n",
              "    <tr>\n",
              "      <th>0</th>\n",
              "      <td>Aer Lingus</td>\n",
              "      <td>320906734</td>\n",
              "      <td>2</td>\n",
              "      <td>0</td>\n",
              "      <td>0</td>\n",
              "      <td>0</td>\n",
              "      <td>0</td>\n",
              "      <td>0</td>\n",
              "    </tr>\n",
              "    <tr>\n",
              "      <th>1</th>\n",
              "      <td>Aeroflot*</td>\n",
              "      <td>1197672318</td>\n",
              "      <td>76</td>\n",
              "      <td>14</td>\n",
              "      <td>128</td>\n",
              "      <td>6</td>\n",
              "      <td>1</td>\n",
              "      <td>88</td>\n",
              "    </tr>\n",
              "    <tr>\n",
              "      <th>2</th>\n",
              "      <td>Aerolineas Argentinas</td>\n",
              "      <td>385803648</td>\n",
              "      <td>6</td>\n",
              "      <td>0</td>\n",
              "      <td>0</td>\n",
              "      <td>1</td>\n",
              "      <td>0</td>\n",
              "      <td>0</td>\n",
              "    </tr>\n",
              "    <tr>\n",
              "      <th>3</th>\n",
              "      <td>Aeromexico*</td>\n",
              "      <td>596871813</td>\n",
              "      <td>3</td>\n",
              "      <td>1</td>\n",
              "      <td>64</td>\n",
              "      <td>5</td>\n",
              "      <td>0</td>\n",
              "      <td>0</td>\n",
              "    </tr>\n",
              "    <tr>\n",
              "      <th>4</th>\n",
              "      <td>Air Canada</td>\n",
              "      <td>1865253802</td>\n",
              "      <td>2</td>\n",
              "      <td>0</td>\n",
              "      <td>0</td>\n",
              "      <td>2</td>\n",
              "      <td>0</td>\n",
              "      <td>0</td>\n",
              "    </tr>\n",
              "  </tbody>\n",
              "</table>\n",
              "</div>\n",
              "      <button class=\"colab-df-convert\" onclick=\"convertToInteractive('df-c2901726-64f9-4e85-8999-c47c8935ac61')\"\n",
              "              title=\"Convert this dataframe to an interactive table.\"\n",
              "              style=\"display:none;\">\n",
              "        \n",
              "  <svg xmlns=\"http://www.w3.org/2000/svg\" height=\"24px\"viewBox=\"0 0 24 24\"\n",
              "       width=\"24px\">\n",
              "    <path d=\"M0 0h24v24H0V0z\" fill=\"none\"/>\n",
              "    <path d=\"M18.56 5.44l.94 2.06.94-2.06 2.06-.94-2.06-.94-.94-2.06-.94 2.06-2.06.94zm-11 1L8.5 8.5l.94-2.06 2.06-.94-2.06-.94L8.5 2.5l-.94 2.06-2.06.94zm10 10l.94 2.06.94-2.06 2.06-.94-2.06-.94-.94-2.06-.94 2.06-2.06.94z\"/><path d=\"M17.41 7.96l-1.37-1.37c-.4-.4-.92-.59-1.43-.59-.52 0-1.04.2-1.43.59L10.3 9.45l-7.72 7.72c-.78.78-.78 2.05 0 2.83L4 21.41c.39.39.9.59 1.41.59.51 0 1.02-.2 1.41-.59l7.78-7.78 2.81-2.81c.8-.78.8-2.07 0-2.86zM5.41 20L4 18.59l7.72-7.72 1.47 1.35L5.41 20z\"/>\n",
              "  </svg>\n",
              "      </button>\n",
              "      \n",
              "  <style>\n",
              "    .colab-df-container {\n",
              "      display:flex;\n",
              "      flex-wrap:wrap;\n",
              "      gap: 12px;\n",
              "    }\n",
              "\n",
              "    .colab-df-convert {\n",
              "      background-color: #E8F0FE;\n",
              "      border: none;\n",
              "      border-radius: 50%;\n",
              "      cursor: pointer;\n",
              "      display: none;\n",
              "      fill: #1967D2;\n",
              "      height: 32px;\n",
              "      padding: 0 0 0 0;\n",
              "      width: 32px;\n",
              "    }\n",
              "\n",
              "    .colab-df-convert:hover {\n",
              "      background-color: #E2EBFA;\n",
              "      box-shadow: 0px 1px 2px rgba(60, 64, 67, 0.3), 0px 1px 3px 1px rgba(60, 64, 67, 0.15);\n",
              "      fill: #174EA6;\n",
              "    }\n",
              "\n",
              "    [theme=dark] .colab-df-convert {\n",
              "      background-color: #3B4455;\n",
              "      fill: #D2E3FC;\n",
              "    }\n",
              "\n",
              "    [theme=dark] .colab-df-convert:hover {\n",
              "      background-color: #434B5C;\n",
              "      box-shadow: 0px 1px 3px 1px rgba(0, 0, 0, 0.15);\n",
              "      filter: drop-shadow(0px 1px 2px rgba(0, 0, 0, 0.3));\n",
              "      fill: #FFFFFF;\n",
              "    }\n",
              "  </style>\n",
              "\n",
              "      <script>\n",
              "        const buttonEl =\n",
              "          document.querySelector('#df-c2901726-64f9-4e85-8999-c47c8935ac61 button.colab-df-convert');\n",
              "        buttonEl.style.display =\n",
              "          google.colab.kernel.accessAllowed ? 'block' : 'none';\n",
              "\n",
              "        async function convertToInteractive(key) {\n",
              "          const element = document.querySelector('#df-c2901726-64f9-4e85-8999-c47c8935ac61');\n",
              "          const dataTable =\n",
              "            await google.colab.kernel.invokeFunction('convertToInteractive',\n",
              "                                                     [key], {});\n",
              "          if (!dataTable) return;\n",
              "\n",
              "          const docLinkHtml = 'Like what you see? Visit the ' +\n",
              "            '<a target=\"_blank\" href=https://colab.research.google.com/notebooks/data_table.ipynb>data table notebook</a>'\n",
              "            + ' to learn more about interactive tables.';\n",
              "          element.innerHTML = '';\n",
              "          dataTable['output_type'] = 'display_data';\n",
              "          await google.colab.output.renderOutput(dataTable, element);\n",
              "          const docLink = document.createElement('div');\n",
              "          docLink.innerHTML = docLinkHtml;\n",
              "          element.appendChild(docLink);\n",
              "        }\n",
              "      </script>\n",
              "    </div>\n",
              "  </div>\n",
              "  "
            ]
          },
          "metadata": {},
          "execution_count": 9
        }
      ],
      "source": [
        "import pandas as pd\n",
        "\n",
        "uri=\"https://raw.githubusercontent.com/fivethirtyeight/data/master/airline-safety/airline-safety.csv\" #insere o link a ser analisado, tem que ser .csv\n",
        "voos = pd.read_csv(uri) #a variavel voos, vai receber a função de ler o dataframe, inclusou no uri\n",
        "voos.head() #com a função head, nós lemos apenas a 5 primeiras linhas"
      ]
    },
    {
      "cell_type": "code",
      "source": [
        "voos.columns= ['CiaAerea','km_por_semana', 'incid_85-89','Acident_fatais_85-99','fatalid_85-99', 'incid_00-14','acident_fatais_00-14','fatalid_00-14']\n",
        "voos.head()"
      ],
      "metadata": {
        "colab": {
          "base_uri": "https://localhost:8080/",
          "height": 206
        },
        "id": "L9czac32LHVd",
        "outputId": "d7360c79-2dc7-4809-d0cd-efb3daa02b9b"
      },
      "execution_count": null,
      "outputs": [
        {
          "output_type": "execute_result",
          "data": {
            "text/plain": [
              "                CiaAerea  km_por_semana  incid_85-89  Acident_fatais_85-99  \\\n",
              "0             Aer Lingus      320906734            2                     0   \n",
              "1              Aeroflot*     1197672318           76                    14   \n",
              "2  Aerolineas Argentinas      385803648            6                     0   \n",
              "3            Aeromexico*      596871813            3                     1   \n",
              "4             Air Canada     1865253802            2                     0   \n",
              "\n",
              "   fatalid_85-99  incid_00-14  acident_fatais_00-14  fatalid_00-14  \n",
              "0              0            0                     0              0  \n",
              "1            128            6                     1             88  \n",
              "2              0            1                     0              0  \n",
              "3             64            5                     0              0  \n",
              "4              0            2                     0              0  "
            ],
            "text/html": [
              "\n",
              "  <div id=\"df-da656f79-4db6-4319-b63a-addfcf827e15\">\n",
              "    <div class=\"colab-df-container\">\n",
              "      <div>\n",
              "<style scoped>\n",
              "    .dataframe tbody tr th:only-of-type {\n",
              "        vertical-align: middle;\n",
              "    }\n",
              "\n",
              "    .dataframe tbody tr th {\n",
              "        vertical-align: top;\n",
              "    }\n",
              "\n",
              "    .dataframe thead th {\n",
              "        text-align: right;\n",
              "    }\n",
              "</style>\n",
              "<table border=\"1\" class=\"dataframe\">\n",
              "  <thead>\n",
              "    <tr style=\"text-align: right;\">\n",
              "      <th></th>\n",
              "      <th>CiaAerea</th>\n",
              "      <th>km_por_semana</th>\n",
              "      <th>incid_85-89</th>\n",
              "      <th>Acident_fatais_85-99</th>\n",
              "      <th>fatalid_85-99</th>\n",
              "      <th>incid_00-14</th>\n",
              "      <th>acident_fatais_00-14</th>\n",
              "      <th>fatalid_00-14</th>\n",
              "    </tr>\n",
              "  </thead>\n",
              "  <tbody>\n",
              "    <tr>\n",
              "      <th>0</th>\n",
              "      <td>Aer Lingus</td>\n",
              "      <td>320906734</td>\n",
              "      <td>2</td>\n",
              "      <td>0</td>\n",
              "      <td>0</td>\n",
              "      <td>0</td>\n",
              "      <td>0</td>\n",
              "      <td>0</td>\n",
              "    </tr>\n",
              "    <tr>\n",
              "      <th>1</th>\n",
              "      <td>Aeroflot*</td>\n",
              "      <td>1197672318</td>\n",
              "      <td>76</td>\n",
              "      <td>14</td>\n",
              "      <td>128</td>\n",
              "      <td>6</td>\n",
              "      <td>1</td>\n",
              "      <td>88</td>\n",
              "    </tr>\n",
              "    <tr>\n",
              "      <th>2</th>\n",
              "      <td>Aerolineas Argentinas</td>\n",
              "      <td>385803648</td>\n",
              "      <td>6</td>\n",
              "      <td>0</td>\n",
              "      <td>0</td>\n",
              "      <td>1</td>\n",
              "      <td>0</td>\n",
              "      <td>0</td>\n",
              "    </tr>\n",
              "    <tr>\n",
              "      <th>3</th>\n",
              "      <td>Aeromexico*</td>\n",
              "      <td>596871813</td>\n",
              "      <td>3</td>\n",
              "      <td>1</td>\n",
              "      <td>64</td>\n",
              "      <td>5</td>\n",
              "      <td>0</td>\n",
              "      <td>0</td>\n",
              "    </tr>\n",
              "    <tr>\n",
              "      <th>4</th>\n",
              "      <td>Air Canada</td>\n",
              "      <td>1865253802</td>\n",
              "      <td>2</td>\n",
              "      <td>0</td>\n",
              "      <td>0</td>\n",
              "      <td>2</td>\n",
              "      <td>0</td>\n",
              "      <td>0</td>\n",
              "    </tr>\n",
              "  </tbody>\n",
              "</table>\n",
              "</div>\n",
              "      <button class=\"colab-df-convert\" onclick=\"convertToInteractive('df-da656f79-4db6-4319-b63a-addfcf827e15')\"\n",
              "              title=\"Convert this dataframe to an interactive table.\"\n",
              "              style=\"display:none;\">\n",
              "        \n",
              "  <svg xmlns=\"http://www.w3.org/2000/svg\" height=\"24px\"viewBox=\"0 0 24 24\"\n",
              "       width=\"24px\">\n",
              "    <path d=\"M0 0h24v24H0V0z\" fill=\"none\"/>\n",
              "    <path d=\"M18.56 5.44l.94 2.06.94-2.06 2.06-.94-2.06-.94-.94-2.06-.94 2.06-2.06.94zm-11 1L8.5 8.5l.94-2.06 2.06-.94-2.06-.94L8.5 2.5l-.94 2.06-2.06.94zm10 10l.94 2.06.94-2.06 2.06-.94-2.06-.94-.94-2.06-.94 2.06-2.06.94z\"/><path d=\"M17.41 7.96l-1.37-1.37c-.4-.4-.92-.59-1.43-.59-.52 0-1.04.2-1.43.59L10.3 9.45l-7.72 7.72c-.78.78-.78 2.05 0 2.83L4 21.41c.39.39.9.59 1.41.59.51 0 1.02-.2 1.41-.59l7.78-7.78 2.81-2.81c.8-.78.8-2.07 0-2.86zM5.41 20L4 18.59l7.72-7.72 1.47 1.35L5.41 20z\"/>\n",
              "  </svg>\n",
              "      </button>\n",
              "      \n",
              "  <style>\n",
              "    .colab-df-container {\n",
              "      display:flex;\n",
              "      flex-wrap:wrap;\n",
              "      gap: 12px;\n",
              "    }\n",
              "\n",
              "    .colab-df-convert {\n",
              "      background-color: #E8F0FE;\n",
              "      border: none;\n",
              "      border-radius: 50%;\n",
              "      cursor: pointer;\n",
              "      display: none;\n",
              "      fill: #1967D2;\n",
              "      height: 32px;\n",
              "      padding: 0 0 0 0;\n",
              "      width: 32px;\n",
              "    }\n",
              "\n",
              "    .colab-df-convert:hover {\n",
              "      background-color: #E2EBFA;\n",
              "      box-shadow: 0px 1px 2px rgba(60, 64, 67, 0.3), 0px 1px 3px 1px rgba(60, 64, 67, 0.15);\n",
              "      fill: #174EA6;\n",
              "    }\n",
              "\n",
              "    [theme=dark] .colab-df-convert {\n",
              "      background-color: #3B4455;\n",
              "      fill: #D2E3FC;\n",
              "    }\n",
              "\n",
              "    [theme=dark] .colab-df-convert:hover {\n",
              "      background-color: #434B5C;\n",
              "      box-shadow: 0px 1px 3px 1px rgba(0, 0, 0, 0.15);\n",
              "      filter: drop-shadow(0px 1px 2px rgba(0, 0, 0, 0.3));\n",
              "      fill: #FFFFFF;\n",
              "    }\n",
              "  </style>\n",
              "\n",
              "      <script>\n",
              "        const buttonEl =\n",
              "          document.querySelector('#df-da656f79-4db6-4319-b63a-addfcf827e15 button.colab-df-convert');\n",
              "        buttonEl.style.display =\n",
              "          google.colab.kernel.accessAllowed ? 'block' : 'none';\n",
              "\n",
              "        async function convertToInteractive(key) {\n",
              "          const element = document.querySelector('#df-da656f79-4db6-4319-b63a-addfcf827e15');\n",
              "          const dataTable =\n",
              "            await google.colab.kernel.invokeFunction('convertToInteractive',\n",
              "                                                     [key], {});\n",
              "          if (!dataTable) return;\n",
              "\n",
              "          const docLinkHtml = 'Like what you see? Visit the ' +\n",
              "            '<a target=\"_blank\" href=https://colab.research.google.com/notebooks/data_table.ipynb>data table notebook</a>'\n",
              "            + ' to learn more about interactive tables.';\n",
              "          element.innerHTML = '';\n",
              "          dataTable['output_type'] = 'display_data';\n",
              "          await google.colab.output.renderOutput(dataTable, element);\n",
              "          const docLink = document.createElement('div');\n",
              "          docLink.innerHTML = docLinkHtml;\n",
              "          element.appendChild(docLink);\n",
              "        }\n",
              "      </script>\n",
              "    </div>\n",
              "  </div>\n",
              "  "
            ]
          },
          "metadata": {},
          "execution_count": 12
        }
      ]
    },
    {
      "cell_type": "code",
      "source": [
        "voos.describe() #descereve as informações das variaveis, o maior numero, o menor, o total"
      ],
      "metadata": {
        "colab": {
          "base_uri": "https://localhost:8080/",
          "height": 300
        },
        "id": "0jDY9o9EONmE",
        "outputId": "28365913-d262-4317-c642-edaf1bc266e6"
      },
      "execution_count": null,
      "outputs": [
        {
          "output_type": "execute_result",
          "data": {
            "text/plain": [
              "       km_por_semana  incid_85-89  Acident_fatais_85-99  fatalid_85-99  \\\n",
              "count   5.600000e+01    56.000000             56.000000      56.000000   \n",
              "mean    1.384621e+09     7.178571              2.178571     112.410714   \n",
              "std     1.465317e+09    11.035656              2.861069     146.691114   \n",
              "min     2.593733e+08     0.000000              0.000000       0.000000   \n",
              "25%     4.740362e+08     2.000000              0.000000       0.000000   \n",
              "50%     8.029089e+08     4.000000              1.000000      48.500000   \n",
              "75%     1.847239e+09     8.000000              3.000000     184.250000   \n",
              "max     7.139291e+09    76.000000             14.000000     535.000000   \n",
              "\n",
              "       incid_00-14  acident_fatais_00-14  fatalid_00-14  \n",
              "count    56.000000             56.000000      56.000000  \n",
              "mean      4.125000              0.660714      55.517857  \n",
              "std       4.544977              0.858684     111.332751  \n",
              "min       0.000000              0.000000       0.000000  \n",
              "25%       1.000000              0.000000       0.000000  \n",
              "50%       3.000000              0.000000       0.000000  \n",
              "75%       5.250000              1.000000      83.250000  \n",
              "max      24.000000              3.000000     537.000000  "
            ],
            "text/html": [
              "\n",
              "  <div id=\"df-e0db4f91-99a9-42a7-8ad4-6765c6eff4b5\">\n",
              "    <div class=\"colab-df-container\">\n",
              "      <div>\n",
              "<style scoped>\n",
              "    .dataframe tbody tr th:only-of-type {\n",
              "        vertical-align: middle;\n",
              "    }\n",
              "\n",
              "    .dataframe tbody tr th {\n",
              "        vertical-align: top;\n",
              "    }\n",
              "\n",
              "    .dataframe thead th {\n",
              "        text-align: right;\n",
              "    }\n",
              "</style>\n",
              "<table border=\"1\" class=\"dataframe\">\n",
              "  <thead>\n",
              "    <tr style=\"text-align: right;\">\n",
              "      <th></th>\n",
              "      <th>km_por_semana</th>\n",
              "      <th>incid_85-89</th>\n",
              "      <th>Acident_fatais_85-99</th>\n",
              "      <th>fatalid_85-99</th>\n",
              "      <th>incid_00-14</th>\n",
              "      <th>acident_fatais_00-14</th>\n",
              "      <th>fatalid_00-14</th>\n",
              "    </tr>\n",
              "  </thead>\n",
              "  <tbody>\n",
              "    <tr>\n",
              "      <th>count</th>\n",
              "      <td>5.600000e+01</td>\n",
              "      <td>56.000000</td>\n",
              "      <td>56.000000</td>\n",
              "      <td>56.000000</td>\n",
              "      <td>56.000000</td>\n",
              "      <td>56.000000</td>\n",
              "      <td>56.000000</td>\n",
              "    </tr>\n",
              "    <tr>\n",
              "      <th>mean</th>\n",
              "      <td>1.384621e+09</td>\n",
              "      <td>7.178571</td>\n",
              "      <td>2.178571</td>\n",
              "      <td>112.410714</td>\n",
              "      <td>4.125000</td>\n",
              "      <td>0.660714</td>\n",
              "      <td>55.517857</td>\n",
              "    </tr>\n",
              "    <tr>\n",
              "      <th>std</th>\n",
              "      <td>1.465317e+09</td>\n",
              "      <td>11.035656</td>\n",
              "      <td>2.861069</td>\n",
              "      <td>146.691114</td>\n",
              "      <td>4.544977</td>\n",
              "      <td>0.858684</td>\n",
              "      <td>111.332751</td>\n",
              "    </tr>\n",
              "    <tr>\n",
              "      <th>min</th>\n",
              "      <td>2.593733e+08</td>\n",
              "      <td>0.000000</td>\n",
              "      <td>0.000000</td>\n",
              "      <td>0.000000</td>\n",
              "      <td>0.000000</td>\n",
              "      <td>0.000000</td>\n",
              "      <td>0.000000</td>\n",
              "    </tr>\n",
              "    <tr>\n",
              "      <th>25%</th>\n",
              "      <td>4.740362e+08</td>\n",
              "      <td>2.000000</td>\n",
              "      <td>0.000000</td>\n",
              "      <td>0.000000</td>\n",
              "      <td>1.000000</td>\n",
              "      <td>0.000000</td>\n",
              "      <td>0.000000</td>\n",
              "    </tr>\n",
              "    <tr>\n",
              "      <th>50%</th>\n",
              "      <td>8.029089e+08</td>\n",
              "      <td>4.000000</td>\n",
              "      <td>1.000000</td>\n",
              "      <td>48.500000</td>\n",
              "      <td>3.000000</td>\n",
              "      <td>0.000000</td>\n",
              "      <td>0.000000</td>\n",
              "    </tr>\n",
              "    <tr>\n",
              "      <th>75%</th>\n",
              "      <td>1.847239e+09</td>\n",
              "      <td>8.000000</td>\n",
              "      <td>3.000000</td>\n",
              "      <td>184.250000</td>\n",
              "      <td>5.250000</td>\n",
              "      <td>1.000000</td>\n",
              "      <td>83.250000</td>\n",
              "    </tr>\n",
              "    <tr>\n",
              "      <th>max</th>\n",
              "      <td>7.139291e+09</td>\n",
              "      <td>76.000000</td>\n",
              "      <td>14.000000</td>\n",
              "      <td>535.000000</td>\n",
              "      <td>24.000000</td>\n",
              "      <td>3.000000</td>\n",
              "      <td>537.000000</td>\n",
              "    </tr>\n",
              "  </tbody>\n",
              "</table>\n",
              "</div>\n",
              "      <button class=\"colab-df-convert\" onclick=\"convertToInteractive('df-e0db4f91-99a9-42a7-8ad4-6765c6eff4b5')\"\n",
              "              title=\"Convert this dataframe to an interactive table.\"\n",
              "              style=\"display:none;\">\n",
              "        \n",
              "  <svg xmlns=\"http://www.w3.org/2000/svg\" height=\"24px\"viewBox=\"0 0 24 24\"\n",
              "       width=\"24px\">\n",
              "    <path d=\"M0 0h24v24H0V0z\" fill=\"none\"/>\n",
              "    <path d=\"M18.56 5.44l.94 2.06.94-2.06 2.06-.94-2.06-.94-.94-2.06-.94 2.06-2.06.94zm-11 1L8.5 8.5l.94-2.06 2.06-.94-2.06-.94L8.5 2.5l-.94 2.06-2.06.94zm10 10l.94 2.06.94-2.06 2.06-.94-2.06-.94-.94-2.06-.94 2.06-2.06.94z\"/><path d=\"M17.41 7.96l-1.37-1.37c-.4-.4-.92-.59-1.43-.59-.52 0-1.04.2-1.43.59L10.3 9.45l-7.72 7.72c-.78.78-.78 2.05 0 2.83L4 21.41c.39.39.9.59 1.41.59.51 0 1.02-.2 1.41-.59l7.78-7.78 2.81-2.81c.8-.78.8-2.07 0-2.86zM5.41 20L4 18.59l7.72-7.72 1.47 1.35L5.41 20z\"/>\n",
              "  </svg>\n",
              "      </button>\n",
              "      \n",
              "  <style>\n",
              "    .colab-df-container {\n",
              "      display:flex;\n",
              "      flex-wrap:wrap;\n",
              "      gap: 12px;\n",
              "    }\n",
              "\n",
              "    .colab-df-convert {\n",
              "      background-color: #E8F0FE;\n",
              "      border: none;\n",
              "      border-radius: 50%;\n",
              "      cursor: pointer;\n",
              "      display: none;\n",
              "      fill: #1967D2;\n",
              "      height: 32px;\n",
              "      padding: 0 0 0 0;\n",
              "      width: 32px;\n",
              "    }\n",
              "\n",
              "    .colab-df-convert:hover {\n",
              "      background-color: #E2EBFA;\n",
              "      box-shadow: 0px 1px 2px rgba(60, 64, 67, 0.3), 0px 1px 3px 1px rgba(60, 64, 67, 0.15);\n",
              "      fill: #174EA6;\n",
              "    }\n",
              "\n",
              "    [theme=dark] .colab-df-convert {\n",
              "      background-color: #3B4455;\n",
              "      fill: #D2E3FC;\n",
              "    }\n",
              "\n",
              "    [theme=dark] .colab-df-convert:hover {\n",
              "      background-color: #434B5C;\n",
              "      box-shadow: 0px 1px 3px 1px rgba(0, 0, 0, 0.15);\n",
              "      filter: drop-shadow(0px 1px 2px rgba(0, 0, 0, 0.3));\n",
              "      fill: #FFFFFF;\n",
              "    }\n",
              "  </style>\n",
              "\n",
              "      <script>\n",
              "        const buttonEl =\n",
              "          document.querySelector('#df-e0db4f91-99a9-42a7-8ad4-6765c6eff4b5 button.colab-df-convert');\n",
              "        buttonEl.style.display =\n",
              "          google.colab.kernel.accessAllowed ? 'block' : 'none';\n",
              "\n",
              "        async function convertToInteractive(key) {\n",
              "          const element = document.querySelector('#df-e0db4f91-99a9-42a7-8ad4-6765c6eff4b5');\n",
              "          const dataTable =\n",
              "            await google.colab.kernel.invokeFunction('convertToInteractive',\n",
              "                                                     [key], {});\n",
              "          if (!dataTable) return;\n",
              "\n",
              "          const docLinkHtml = 'Like what you see? Visit the ' +\n",
              "            '<a target=\"_blank\" href=https://colab.research.google.com/notebooks/data_table.ipynb>data table notebook</a>'\n",
              "            + ' to learn more about interactive tables.';\n",
              "          element.innerHTML = '';\n",
              "          dataTable['output_type'] = 'display_data';\n",
              "          await google.colab.output.renderOutput(dataTable, element);\n",
              "          const docLink = document.createElement('div');\n",
              "          docLink.innerHTML = docLinkHtml;\n",
              "          element.appendChild(docLink);\n",
              "        }\n",
              "      </script>\n",
              "    </div>\n",
              "  </div>\n",
              "  "
            ]
          },
          "metadata": {},
          "execution_count": 13
        }
      ]
    },
    {
      "cell_type": "code",
      "source": [
        "voos.plot(kind='hist')  #gera um grafico do tipo 'hist'"
      ],
      "metadata": {
        "colab": {
          "base_uri": "https://localhost:8080/",
          "height": 295
        },
        "id": "tgN0VXxeO0k6",
        "outputId": "9c76ff43-dee6-423a-c4c1-d8da72ffcd3a"
      },
      "execution_count": null,
      "outputs": [
        {
          "output_type": "execute_result",
          "data": {
            "text/plain": [
              "<matplotlib.axes._subplots.AxesSubplot at 0x7f7e74c93ed0>"
            ]
          },
          "metadata": {},
          "execution_count": 14
        },
        {
          "output_type": "display_data",
          "data": {
            "text/plain": [
              "<Figure size 432x288 with 1 Axes>"
            ],
            "image/png": "[encoded data removed]"
          },
          "metadata": {
            "needs_background": "light"
          }
        }
      ]
    },
    {
      "cell_type": "code",
      "source": [
        "voos[\"fatalid_00-14\"].min() #menor numero na coluna 'fatalid...'"
      ],
      "metadata": {
        "colab": {
          "base_uri": "https://localhost:8080/"
        },
        "id": "ElhKH09QPczD",
        "outputId": "12c27ebd-eff9-4837-a189-6585e90ce848"
      },
      "execution_count": null,
      "outputs": [
        {
          "output_type": "execute_result",
          "data": {
            "text/plain": [
              "0"
            ]
          },
          "metadata": {},
          "execution_count": 18
        }
      ]
    },
    {
      "cell_type": "code",
      "source": [
        "voos[\"fatalid_00-14\"].max() #maior numero na coluna 'fatalid...'"
      ],
      "metadata": {
        "colab": {
          "base_uri": "https://localhost:8080/"
        },
        "id": "voO3KBtfPqzR",
        "outputId": "67fae393-eca0-4ce1-da6b-afb319dd70bf"
      },
      "execution_count": null,
      "outputs": [
        {
          "output_type": "execute_result",
          "data": {
            "text/plain": [
              "537"
            ]
          },
          "metadata": {},
          "execution_count": 19
        }
      ]
    },
    {
      "cell_type": "code",
      "source": [
        "voos[\"km_por_semana\"].unique() #valores únicos"
      ],
      "metadata": {
        "colab": {
          "base_uri": "https://localhost:8080/"
        },
        "id": "pggsGe_nPs9B",
        "outputId": "73d02b12-028c-405d-daea-676e5fc8aa73"
      },
      "execution_count": null,
      "outputs": [
        {
          "output_type": "execute_result",
          "data": {
            "text/plain": [
              "array([ 320906734, 1197672318,  385803648,  596871813, 1865253802,\n",
              "       3004002661,  869253552,  710174817,  965346773,  698012498,\n",
              "       1841234177, 5228357340,  358239823,  396922563, 3179760952,\n",
              "       2582459303,  813216487,  417982610,  550491507, 6525658894,\n",
              "        557699891,  335448023,  488560643,  506464950,  613356665,\n",
              "        301379762,  493877795, 1173203126, 1574217531,  277414794,\n",
              "       1874561773, 1734522605, 1001965891, 3426529504, 1039171244,\n",
              "        348563137,  413007158, 1917428984,  295705339,  682971852,\n",
              "        859673901, 2376857805,  651502442, 3276525770,  325582976,\n",
              "        792601299,  259373346, 1509195646,  619130754, 1702802250,\n",
              "       1946098294, 7139291291, 2455687887,  625084918, 1005248585,\n",
              "        430462962])"
            ]
          },
          "metadata": {},
          "execution_count": 21
        }
      ]
    },
    {
      "cell_type": "code",
      "source": [
        "voos['km_por_semana'].head()"
      ],
      "metadata": {
        "colab": {
          "base_uri": "https://localhost:8080/"
        },
        "id": "lPnFlK0RPyQz",
        "outputId": "dd886975-309c-4894-826b-6759ae7f12e7"
      },
      "execution_count": null,
      "outputs": [
        {
          "output_type": "execute_result",
          "data": {
            "text/plain": [
              "0     320906734\n",
              "1    1197672318\n",
              "2     385803648\n",
              "3     596871813\n",
              "4    1865253802\n",
              "Name: km_por_semana, dtype: int64"
            ]
          },
          "metadata": {},
          "execution_count": 23
        }
      ]
    },
    {
      "cell_type": "code",
      "source": [
        "voos.shape #numero de linhas e colunas"
      ],
      "metadata": {
        "colab": {
          "base_uri": "https://localhost:8080/"
        },
        "id": "DpfawCHGQb5u",
        "outputId": "1e4a3bfb-1177-4c29-fce9-bd7ab458dbf6"
      },
      "execution_count": null,
      "outputs": [
        {
          "output_type": "execute_result",
          "data": {
            "text/plain": [
              "(56, 8)"
            ]
          },
          "metadata": {},
          "execution_count": 26
        }
      ]
    },
    {
      "cell_type": "code",
      "source": [
        "voos.size #retorna o número de linhas vezes o número de colunas no quadro de dados."
      ],
      "metadata": {
        "colab": {
          "base_uri": "https://localhost:8080/"
        },
        "id": "wZ8ENeSARUw7",
        "outputId": "f5e2558c-22d8-40ef-8b3b-1174c59b435c"
      },
      "execution_count": null,
      "outputs": [
        {
          "output_type": "execute_result",
          "data": {
            "text/plain": [
              "448"
            ]
          },
          "metadata": {},
          "execution_count": 27
        }
      ]
    },
    {
      "cell_type": "code",
      "source": [
        "voos.nunique # Ele fornecerá todos os valores exclusivos que uma variável contém."
      ],
      "metadata": {
        "colab": {
          "base_uri": "https://localhost:8080/"
        },
        "id": "egiPwjaZR8dr",
        "outputId": "8e0f9506-b955-4f77-c716-a7756f41e68d"
      },
      "execution_count": null,
      "outputs": [
        {
          "output_type": "execute_result",
          "data": {
            "text/plain": [
              "<bound method DataFrame.nunique of                       CiaAerea  km_por_semana  incid_85-89  \\\n",
              "0                   Aer Lingus      320906734            2   \n",
              "1                    Aeroflot*     1197672318           76   \n",
              "2        Aerolineas Argentinas      385803648            6   \n",
              "3                  Aeromexico*      596871813            3   \n",
              "4                   Air Canada     1865253802            2   \n",
              "5                   Air France     3004002661           14   \n",
              "6                   Air India*      869253552            2   \n",
              "7             Air New Zealand*      710174817            3   \n",
              "8             Alaska Airlines*      965346773            5   \n",
              "9                     Alitalia      698012498            7   \n",
              "10          All Nippon Airways     1841234177            3   \n",
              "11                   American*     5228357340           21   \n",
              "12           Austrian Airlines      358239823            1   \n",
              "13                     Avianca      396922563            5   \n",
              "14            British Airways*     3179760952            4   \n",
              "15             Cathay Pacific*     2582459303            0   \n",
              "16              China Airlines      813216487           12   \n",
              "17                      Condor      417982610            2   \n",
              "18                        COPA      550491507            3   \n",
              "19          Delta / Northwest*     6525658894           24   \n",
              "20                    Egyptair      557699891            8   \n",
              "21                       El Al      335448023            1   \n",
              "22          Ethiopian Airlines      488560643           25   \n",
              "23                     Finnair      506464950            1   \n",
              "24            Garuda Indonesia      613356665           10   \n",
              "25                    Gulf Air      301379762            1   \n",
              "26           Hawaiian Airlines      493877795            0   \n",
              "27                      Iberia     1173203126            4   \n",
              "28              Japan Airlines     1574217531            3   \n",
              "29               Kenya Airways      277414794            2   \n",
              "30                        KLM*     1874561773            7   \n",
              "31                  Korean Air     1734522605           12   \n",
              "32                LAN Airlines     1001965891            3   \n",
              "33                  Lufthansa*     3426529504            6   \n",
              "34           Malaysia Airlines     1039171244            3   \n",
              "35      Pakistan International      348563137            8   \n",
              "36         Philippine Airlines      413007158            7   \n",
              "37                     Qantas*     1917428984            1   \n",
              "38             Royal Air Maroc      295705339            5   \n",
              "39                        SAS*      682971852            5   \n",
              "40               Saudi Arabian      859673901            7   \n",
              "41          Singapore Airlines     2376857805            2   \n",
              "42               South African      651502442            2   \n",
              "43          Southwest Airlines     3276525770            1   \n",
              "44       Sri Lankan / AirLanka      325582976            2   \n",
              "45                      SWISS*      792601299            2   \n",
              "46                        TACA      259373346            3   \n",
              "47                         TAM     1509195646            8   \n",
              "48          TAP - Air Portugal      619130754            0   \n",
              "49                Thai Airways     1702802250            8   \n",
              "50            Turkish Airlines     1946098294            8   \n",
              "51       United / Continental*     7139291291           19   \n",
              "52  US Airways / America West*     2455687887           16   \n",
              "53            Vietnam Airlines      625084918            7   \n",
              "54             Virgin Atlantic     1005248585            1   \n",
              "55             Xiamen Airlines      430462962            9   \n",
              "\n",
              "    Acident_fatais_85-99  fatalid_85-99  incid_00-14  acident_fatais_00-14  \\\n",
              "0                      0              0            0                     0   \n",
              "1                     14            128            6                     1   \n",
              "2                      0              0            1                     0   \n",
              "3                      1             64            5                     0   \n",
              "4                      0              0            2                     0   \n",
              "5                      4             79            6                     2   \n",
              "6                      1            329            4                     1   \n",
              "7                      0              0            5                     1   \n",
              "8                      0              0            5                     1   \n",
              "9                      2             50            4                     0   \n",
              "10                     1              1            7                     0   \n",
              "11                     5            101           17                     3   \n",
              "12                     0              0            1                     0   \n",
              "13                     3            323            0                     0   \n",
              "14                     0              0            6                     0   \n",
              "15                     0              0            2                     0   \n",
              "16                     6            535            2                     1   \n",
              "17                     1             16            0                     0   \n",
              "18                     1             47            0                     0   \n",
              "19                    12            407           24                     2   \n",
              "20                     3            282            4                     1   \n",
              "21                     1              4            1                     0   \n",
              "22                     5            167            5                     2   \n",
              "23                     0              0            0                     0   \n",
              "24                     3            260            4                     2   \n",
              "25                     0              0            3                     1   \n",
              "26                     0              0            1                     0   \n",
              "27                     1            148            5                     0   \n",
              "28                     1            520            0                     0   \n",
              "29                     0              0            2                     2   \n",
              "30                     1              3            1                     0   \n",
              "31                     5            425            1                     0   \n",
              "32                     2             21            0                     0   \n",
              "33                     1              2            3                     0   \n",
              "34                     1             34            3                     2   \n",
              "35                     3            234           10                     2   \n",
              "36                     4             74            2                     1   \n",
              "37                     0              0            5                     0   \n",
              "38                     3             51            3                     0   \n",
              "39                     0              0            6                     1   \n",
              "40                     2            313           11                     0   \n",
              "41                     2              6            2                     1   \n",
              "42                     1            159            1                     0   \n",
              "43                     0              0            8                     0   \n",
              "44                     1             14            4                     0   \n",
              "45                     1            229            3                     0   \n",
              "46                     1              3            1                     1   \n",
              "47                     3             98            7                     2   \n",
              "48                     0              0            0                     0   \n",
              "49                     4            308            2                     1   \n",
              "50                     3             64            8                     2   \n",
              "51                     8            319           14                     2   \n",
              "52                     7            224           11                     2   \n",
              "53                     3            171            1                     0   \n",
              "54                     0              0            0                     0   \n",
              "55                     1             82            2                     0   \n",
              "\n",
              "    fatalid_00-14  \n",
              "0               0  \n",
              "1              88  \n",
              "2               0  \n",
              "3               0  \n",
              "4               0  \n",
              "5             337  \n",
              "6             158  \n",
              "7               7  \n",
              "8              88  \n",
              "9               0  \n",
              "10              0  \n",
              "11            416  \n",
              "12              0  \n",
              "13              0  \n",
              "14              0  \n",
              "15              0  \n",
              "16            225  \n",
              "17              0  \n",
              "18              0  \n",
              "19             51  \n",
              "20             14  \n",
              "21              0  \n",
              "22             92  \n",
              "23              0  \n",
              "24             22  \n",
              "25            143  \n",
              "26              0  \n",
              "27              0  \n",
              "28              0  \n",
              "29            283  \n",
              "30              0  \n",
              "31              0  \n",
              "32              0  \n",
              "33              0  \n",
              "34            537  \n",
              "35             46  \n",
              "36              1  \n",
              "37              0  \n",
              "38              0  \n",
              "39            110  \n",
              "40              0  \n",
              "41             83  \n",
              "42              0  \n",
              "43              0  \n",
              "44              0  \n",
              "45              0  \n",
              "46              3  \n",
              "47            188  \n",
              "48              0  \n",
              "49              1  \n",
              "50             84  \n",
              "51            109  \n",
              "52             23  \n",
              "53              0  \n",
              "54              0  \n",
              "55              0  >"
            ]
          },
          "metadata": {},
          "execution_count": 35
        }
      ]
    },
    {
      "cell_type": "code",
      "source": [
        "voos[\"km_por_semana\"].plot()"
      ],
      "metadata": {
        "id": "8VM_XqUVSM0C",
        "colab": {
          "base_uri": "https://localhost:8080/",
          "height": 293
        },
        "outputId": "3953f8cf-9d93-4071-b1be-d68887ae892c"
      },
      "execution_count": 38,
      "outputs": [
        {
          "output_type": "execute_result",
          "data": {
            "text/plain": [
              "<matplotlib.axes._subplots.AxesSubplot at 0x7f7e76f0ff10>"
            ]
          },
          "metadata": {},
          "execution_count": 38
        },
        {
          "output_type": "display_data",
          "data": {
            "text/plain": [
              "<Figure size 432x288 with 1 Axes>"
            ],
            "image/png": "[encoded data removed]"
          },
          "metadata": {
            "needs_background": "light"
          }
        }
      ]
    },
    {
      "cell_type": "code",
      "source": [
        ""
      ],
      "metadata": {
        "id": "3iJmNFT2URRY"
      },
      "execution_count": null,
      "outputs": []
    }
  ]
}